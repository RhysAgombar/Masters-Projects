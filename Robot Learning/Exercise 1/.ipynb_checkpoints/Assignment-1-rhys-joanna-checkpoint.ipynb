{
 "cells": [
  {
   "cell_type": "markdown",
   "metadata": {},
   "source": [
    "### 1.1)"
   ]
  },
  {
   "cell_type": "markdown",
   "metadata": {},
   "source": [
    "R<sub>1</sub> = (-2 + 3) / 2 = 0,5\n",
    "\n",
    "R<sub>2</sub> = (1 + 4) / 2 = 2,5\n",
    "\n",
    "R<sub>3</sub>=(2 + 3)/2 = 2,5\n",
    "\n",
    "R<sub>4</sub>=(-1 + 5)/2 = 2\n",
    "\n",
    "R<sub>5</sub>=(0 + 4)/2 = 2\n",
    "\n",
    "R<sub>6</sub>=(1 + 4)/2 = 2,5\n",
    "\n",
    "R<sub>7</sub>=(3 + 7)/2 = 5\n",
    "\n",
    "\n",
    "R<sub>exp</sub>=(0,5 + 2,5 + 2,5 + 2 + 2 + 2,5 + 5)/7 = 2,428\n",
    "\n",
    "The expected reward will be 2,428 when actuions are chosen uniformly."
   ]
  },
  {
   "cell_type": "markdown",
   "metadata": {},
   "source": [
    "### 1.2)"
   ]
  },
  {
   "cell_type": "code",
   "execution_count": 1,
   "metadata": {},
   "outputs": [],
   "source": [
    "import random\n",
    "import matplotlib.pyplot as plt"
   ]
  },
  {
   "cell_type": "code",
   "execution_count": 2,
   "metadata": {},
   "outputs": [
    {
     "name": "stdout",
     "output_type": "stream",
     "text": [
      "[[-2, 3], [1, 4], [2, 3], [-1, 5], [0, 4], [1, 4], [3, 7]]\n"
     ]
    }
   ],
   "source": [
    "bandits = []\n",
    "bandits.append(list((-2,3)))\n",
    "bandits.append(list((1,4)))\n",
    "bandits.append(list((2,3)))\n",
    "bandits.append(list((-1,5)))\n",
    "bandits.append(list((0,4)))\n",
    "bandits.append(list((1,4)))\n",
    "bandits.append(list((3,7)))\n",
    "print(bandits)"
   ]
  },
  {
   "cell_type": "code",
   "execution_count": 3,
   "metadata": {},
   "outputs": [
    {
     "name": "stdout",
     "output_type": "stream",
     "text": [
      "2.378\n"
     ]
    }
   ],
   "source": [
    "totalReward = 0\n",
    "for i in range(0,20):\n",
    "    selBandit = random.randint(0,6)\n",
    "    totalReward= totalReward + (random.random()*(bandits[selBandit][1]-bandits[selBandit][0])) + bandits[selBandit][0]\n",
    "print(round(totalReward/20,3))"
   ]
  },
  {
   "cell_type": "markdown",
   "metadata": {},
   "source": [
    "Our computed average reward is relatively close to our expected average reward. Given that we only used 20 actions to compute this, some inaccuracy is to be expected in the computation. We conclude that our average is accurate, and that if the computation was done with a larger number of actions (1000+), it would have converged on our solution as well."
   ]
  },
  {
   "cell_type": "markdown",
   "metadata": {},
   "source": [
    "### 1.3)"
   ]
  },
  {
   "cell_type": "code",
   "execution_count": 4,
   "metadata": {},
   "outputs": [
    {
     "name": "stdout",
     "output_type": "stream",
     "text": [
      "[[-2, 3], [1, 4], [2, 3], [-1, 5], [0, 4], [1, 4], [3, 7]]\n"
     ]
    }
   ],
   "source": [
    "bandits = []\n",
    "bandits.append(list((-2,3)))\n",
    "bandits.append(list((1,4)))\n",
    "bandits.append(list((2,3)))\n",
    "bandits.append(list((-1,5)))\n",
    "bandits.append(list((0,4)))\n",
    "bandits.append(list((1,4)))\n",
    "bandits.append(list((3,7)))\n",
    "print(bandits)"
   ]
  },
  {
   "cell_type": "code",
   "execution_count": 5,
   "metadata": {},
   "outputs": [],
   "source": [
    "def avg(q, r, k): ## Recursive Average\n",
    "    return q + (1/(k+1))*(r-q)    "
   ]
  },
  {
   "cell_type": "code",
   "execution_count": 6,
   "metadata": {},
   "outputs": [
    {
     "name": "stdout",
     "output_type": "stream",
     "text": [
      "Action number: 100 Percentage of Choice: [0.05, 0.17, 0.11, 0.0, 0.01, 0.01, 0.66] \n",
      "Average Rewards Per Bandit:  [0.087, 2.548, 2.58, 0, 1.994, 2.289, 5.058] \n",
      "Average Rewards in total:  4.079\n",
      "Action number: 200 Percentage of Choice: [0.03, 0.09, 0.065, 0.02, 0.01, 0.005, 0.785] \n",
      "Average Rewards Per Bandit:  [0.45, 2.586, 2.565, -0.197, 2.732, 2.289, 5.067] \n",
      "Average Rewards in total:  4.426\n",
      "Action number: 300 Percentage of Choice: [0.02, 0.067, 0.053, 0.017, 0.01, 0.01, 0.827] \n",
      "Average Rewards Per Bandit:  [0.45, 2.571, 2.521, -0.054, 2.65, 1.822, 5.049] \n",
      "Average Rewards in total:  4.531\n",
      "Action number: 400 Percentage of Choice: [0.022, 0.052, 0.043, 0.018, 0.01, 0.01, 0.848] \n",
      "Average Rewards Per Bandit:  [0.628, 2.593, 2.497, 0.825, 2.619, 1.761, 5.069] \n",
      "Average Rewards in total:  4.603\n",
      "Action number: 500 Percentage of Choice: [0.022, 0.042, 0.036, 0.016, 0.01, 0.012, 0.864] \n",
      "Average Rewards Per Bandit:  [0.88, 2.593, 2.485, 0.774, 2.454, 2.416, 5.067] \n",
      "Average Rewards in total:  4.648\n",
      "Action number: 600 Percentage of Choice: [0.022, 0.035, 0.035, 0.015, 0.012, 0.013, 0.87] \n",
      "Average Rewards Per Bandit:  [0.761, 2.593, 2.468, 0.779, 2.171, 2.623, 5.035] \n",
      "Average Rewards in total:  4.643\n",
      "Action number: 700 Percentage of Choice: [0.02, 0.03, 0.033, 0.017, 0.013, 0.013, 0.876] \n",
      "Average Rewards Per Bandit:  [0.741, 2.593, 2.436, 1.297, 1.86, 2.749, 5.01] \n",
      "Average Rewards in total:  4.635\n",
      "Action number: 800 Percentage of Choice: [0.018, 0.029, 0.031, 0.015, 0.015, 0.014, 0.88] \n",
      "Average Rewards Per Bandit:  [0.741, 2.585, 2.455, 1.297, 2.182, 2.935, 5.023] \n",
      "Average Rewards in total:  4.67\n",
      "Action number: 900 Percentage of Choice: [0.018, 0.029, 0.028, 0.013, 0.016, 0.014, 0.883] \n",
      "Average Rewards Per Bandit:  [0.649, 2.542, 2.455, 1.297, 2.262, 2.847, 5.004] \n",
      "Average Rewards in total:  4.666\n",
      "Action number: 1000 Percentage of Choice: [0.017, 0.028, 0.026, 0.014, 0.016, 0.013, 0.887] \n",
      "Average Rewards Per Bandit:  [0.562, 2.575, 2.454, 1.525, 2.2, 2.847, 4.997] \n",
      "Average Rewards in total:  4.667\n",
      "Action number: 1100 Percentage of Choice: [0.018, 0.026, 0.025, 0.013, 0.015, 0.015, 0.889] \n",
      "Average Rewards Per Bandit:  [0.362, 2.607, 2.469, 1.525, 2.2, 2.682, 4.995] \n",
      "Average Rewards in total:  4.67\n",
      "Action number: 1200 Percentage of Choice: [0.018, 0.026, 0.023, 0.012, 0.015, 0.018, 0.89] \n",
      "Average Rewards Per Bandit:  [0.269, 2.565, 2.466, 1.525, 2.294, 2.606, 5.006] \n",
      "Average Rewards in total:  4.68\n",
      "Action number: 1300 Percentage of Choice: [0.017, 0.026, 0.023, 0.012, 0.015, 0.016, 0.892] \n",
      "Average Rewards Per Bandit:  [0.353, 2.638, 2.494, 1.478, 2.106, 2.606, 5.022] \n",
      "Average Rewards in total:  4.701\n",
      "Action number: 1400 Percentage of Choice: [0.017, 0.026, 0.022, 0.012, 0.016, 0.015, 0.893] \n",
      "Average Rewards Per Bandit:  [0.402, 2.656, 2.486, 1.422, 2.008, 2.606, 5.015] \n",
      "Average Rewards in total:  4.696\n",
      "Action number: 1500 Percentage of Choice: [0.016, 0.025, 0.021, 0.012, 0.015, 0.016, 0.896] \n",
      "Average Rewards Per Bandit:  [0.402, 2.676, 2.486, 1.391, 2.053, 2.584, 5.015] \n",
      "Average Rewards in total:  4.705\n",
      "Action number: 1600 Percentage of Choice: [0.017, 0.023, 0.02, 0.013, 0.015, 0.016, 0.896] \n",
      "Average Rewards Per Bandit:  [0.505, 2.676, 2.497, 1.485, 2.005, 2.561, 5.015] \n",
      "Average Rewards in total:  4.705\n",
      "Action number: 1700 Percentage of Choice: [0.016, 0.022, 0.019, 0.014, 0.016, 0.016, 0.896] \n",
      "Average Rewards Per Bandit:  [0.515, 2.676, 2.496, 1.682, 1.965, 2.56, 5.027] \n",
      "Average Rewards in total:  4.718\n",
      "Action number: 1800 Percentage of Choice: [0.017, 0.021, 0.02, 0.014, 0.016, 0.017, 0.897] \n",
      "Average Rewards Per Bandit:  [0.49, 2.679, 2.497, 1.706, 2.025, 2.551, 5.031] \n",
      "Average Rewards in total:  4.722\n",
      "Action number: 1900 Percentage of Choice: [0.017, 0.021, 0.021, 0.013, 0.015, 0.016, 0.898] \n",
      "Average Rewards Per Bandit:  [0.516, 2.682, 2.497, 1.706, 2.025, 2.542, 5.034] \n",
      "Average Rewards in total:  4.728\n"
     ]
    }
   ],
   "source": [
    "Q = [0,0,0,0,0,0,0]\n",
    "Qavg = [0,0,0,0,0,0,0]\n",
    "avgRewards13 = [0]\n",
    "sel = 0\n",
    "\n",
    "for i in range(0,2000):\n",
    "    \n",
    "    if(i%10 == 0):      \n",
    "        sel = random.randint(0,6)\n",
    "    else:\n",
    "        sel = Qavg.index(max(Qavg))\n",
    "    \n",
    "    r = (random.random()*(bandits[sel][1]-bandits[sel][0])) + bandits[sel][0]  \n",
    "    avgRewards13.append(avg(avgRewards13[i],r,i)) \n",
    "    Qavg[sel] = avg(Qavg[sel],r,Q[sel])\n",
    "    Q[sel] = Q[sel] + 1\n",
    "    \n",
    "    if(i%100 == 0 and i != 0):\n",
    "        print(\"Action number:\", i, \"Percentage of Choice:\", [round(x/i,3) for x in Q],\n",
    "              \"\\nAverage Rewards Per Bandit: \", [round(x,3) for x in Qavg], \n",
    "              \"\\nAverage Rewards in total: \", round(avgRewards13[i],3))"
   ]
  },
  {
   "cell_type": "code",
   "execution_count": 7,
   "metadata": {},
   "outputs": [
    {
     "data": {
      "image/png": "[encoded data removed]",
      "text/plain": [
       "<matplotlib.figure.Figure at 0x1f947762ac8>"
      ]
     },
     "metadata": {},
     "output_type": "display_data"
    }
   ],
   "source": [
    "plt.plot(avgRewards13)\n",
    "plt.ylabel('Average Reward')\n",
    "plt.xlabel('Number of Actions')\n",
    "plt.title('1.3')\n",
    "plt.show()"
   ]
  },
  {
   "cell_type": "markdown",
   "metadata": {},
   "source": [
    "With ε=0.1 the expolarion occures every 10th action. Therefore, the average rewards jumps between executions. Because the exploration is low and the initial state is random, when received random values are not supportive the grow, on beginning algorithm will take time to correct them."
   ]
  },
  {
   "cell_type": "markdown",
   "metadata": {},
   "source": [
    "### 1.4)"
   ]
  },
  {
   "cell_type": "code",
   "execution_count": 11,
   "metadata": {},
   "outputs": [
    {
     "name": "stdout",
     "output_type": "stream",
     "text": [
      "[[-2, 3], [1, 4], [2, 3], [-1, 5], [0, 4], [1, 4], [3, 7]]\n"
     ]
    }
   ],
   "source": [
    "bandits = []\n",
    "bandits.append(list((-2,3)))\n",
    "bandits.append(list((1,4)))\n",
    "bandits.append(list((2,3)))\n",
    "bandits.append(list((-1,5)))\n",
    "bandits.append(list((0,4)))\n",
    "bandits.append(list((1,4)))\n",
    "bandits.append(list((3,7)))\n",
    "print(bandits)"
   ]
  },
  {
   "cell_type": "code",
   "execution_count": 12,
   "metadata": {},
   "outputs": [
    {
     "name": "stdout",
     "output_type": "stream",
     "text": [
      "Action number: 100 , Percentage of Choice: [0.01, 0.02, 0.46, 0.0, 0.04, 0.01, 0.47] \n",
      "Average Rewards Per Bandit:  [2.59, 2.832, 2.492, 0, 2.015, 2.711, 4.931] \n",
      "Average Rewards in total:  3.616\n",
      "Action number: 200 , Percentage of Choice: [0.005, 0.02, 0.235, 0.035, 0.04, 0.015, 0.655] \n",
      "Average Rewards Per Bandit:  [2.59, 2.971, 2.502, 3.54, 2.037, 2.138, 4.998] \n",
      "Average Rewards in total:  4.157\n",
      "Action number: 300 , Percentage of Choice: [0.007, 0.02, 0.16, 0.033, 0.027, 0.017, 0.74] \n",
      "Average Rewards Per Bandit:  [0.503, 2.877, 2.499, 3.126, 2.037, 2.639, 4.994] \n",
      "Average Rewards in total:  4.356\n",
      "Action number: 400 , Percentage of Choice: [0.01, 0.015, 0.13, 0.025, 0.022, 0.02, 0.78] \n",
      "Average Rewards Per Bandit:  [0.564, 2.877, 2.508, 3.126, 2.008, 2.506, 5.006] \n",
      "Average Rewards in total:  4.446\n",
      "Action number: 500 , Percentage of Choice: [0.01, 0.014, 0.104, 0.024, 0.024, 0.022, 0.804] \n",
      "Average Rewards Per Bandit:  [0.5, 2.725, 2.508, 2.741, 1.834, 2.584, 5.016] \n",
      "Average Rewards in total:  4.502\n",
      "Action number: 600 , Percentage of Choice: [0.012, 0.015, 0.088, 0.022, 0.022, 0.02, 0.823] \n",
      "Average Rewards Per Bandit:  [0.584, 2.491, 2.5, 2.599, 1.909, 2.512, 5.005] \n",
      "Average Rewards in total:  4.532\n",
      "Action number: 700 , Percentage of Choice: [0.011, 0.013, 0.077, 0.024, 0.027, 0.019, 0.83] \n",
      "Average Rewards Per Bandit:  [0.692, 2.491, 2.503, 2.247, 2.172, 2.426, 5.014] \n",
      "Average Rewards in total:  4.549\n",
      "Action number: 800 , Percentage of Choice: [0.013, 0.016, 0.071, 0.021, 0.026, 0.016, 0.838] \n",
      "Average Rewards Per Bandit:  [0.752, 2.354, 2.515, 2.247, 2.282, 2.426, 5.018] \n",
      "Average Rewards in total:  4.576\n",
      "Action number: 900 , Percentage of Choice: [0.014, 0.017, 0.067, 0.02, 0.024, 0.014, 0.844] \n",
      "Average Rewards Per Bandit:  [0.626, 2.342, 2.511, 2.101, 2.234, 2.426, 5.008] \n",
      "Average Rewards in total:  4.573\n",
      "Action number: 1000 , Percentage of Choice: [0.015, 0.018, 0.062, 0.02, 0.022, 0.017, 0.847] \n",
      "Average Rewards Per Bandit:  [0.552, 2.399, 2.503, 2.002, 2.234, 2.579, 5.005] \n",
      "Average Rewards in total:  4.576\n",
      "Action number: 1100 , Percentage of Choice: [0.014, 0.016, 0.059, 0.018, 0.023, 0.017, 0.854] \n",
      "Average Rewards Per Bandit:  [0.552, 2.399, 2.497, 2.002, 2.26, 2.462, 5.016] \n",
      "Average Rewards in total:  4.604\n",
      "Action number: 1200 , Percentage of Choice: [0.015, 0.016, 0.054, 0.017, 0.023, 0.022, 0.854] \n",
      "Average Rewards Per Bandit:  [0.646, 2.334, 2.497, 2.002, 2.189, 2.508, 5.016] \n",
      "Average Rewards in total:  4.603\n",
      "Action number: 1300 , Percentage of Choice: [0.014, 0.015, 0.052, 0.074, 0.022, 0.021, 0.804] \n",
      "Average Rewards Per Bandit:  [0.646, 2.3, 2.491, 6.075, 2.189, 2.528, 5.015] \n",
      "Average Rewards in total:  4.747\n",
      "Action number: 1400 , Percentage of Choice: [0.013, 0.015, 0.049, 0.134, 0.021, 0.019, 0.749] \n",
      "Average Rewards Per Bandit:  [0.646, 2.271, 2.491, 6.536, 2.234, 2.528, 5.013] \n",
      "Average Rewards in total:  4.891\n",
      "Action number: 1500 , Percentage of Choice: [0.014, 0.015, 0.047, 0.187, 0.021, 0.019, 0.699] \n",
      "Average Rewards Per Bandit:  [0.644, 2.303, 2.491, 6.678, 2.204, 2.497, 5.013] \n",
      "Average Rewards in total:  5.001\n",
      "Action number: 1600 , Percentage of Choice: [0.016, 0.015, 0.044, 0.233, 0.02, 0.018, 0.655] \n",
      "Average Rewards Per Bandit:  [0.643, 2.31, 2.491, 6.752, 2.216, 2.474, 5.013] \n",
      "Average Rewards in total:  5.096\n",
      "Action number: 1700 , Percentage of Choice: [0.016, 0.014, 0.043, 0.272, 0.019, 0.019, 0.618] \n",
      "Average Rewards Per Bandit:  [0.585, 2.31, 2.488, 6.798, 2.216, 2.415, 5.01] \n",
      "Average Rewards in total:  5.179\n",
      "Action number: 1800 , Percentage of Choice: [0.017, 0.014, 0.042, 0.306, 0.018, 0.018, 0.586] \n",
      "Average Rewards Per Bandit:  [0.667, 2.385, 2.482, 6.84, 2.216, 2.449, 5.013] \n",
      "Average Rewards in total:  5.261\n",
      "Action number: 1900 , Percentage of Choice: [0.017, 0.014, 0.039, 0.339, 0.017, 0.017, 0.556] \n",
      "Average Rewards Per Bandit:  [0.741, 2.407, 2.482, 6.859, 2.216, 2.449, 5.016] \n",
      "Average Rewards in total:  5.338\n"
     ]
    }
   ],
   "source": [
    "Q = [0,0,0,0,0,0,0]\n",
    "Qavg = [0,0,0,0,0,0,0]\n",
    "Qavg_actual = [0,0,0,0,0,0,0]\n",
    "avgRewards14 = [0]\n",
    "alpha = 0.01\n",
    "sel = 0\n",
    "\n",
    "for i in range(0,2000):\n",
    "    \n",
    "    if(i%10 == 0): \n",
    "        sel = random.randint(0,6)\n",
    "        r = (random.random()*(bandits[sel][1]-bandits[sel][0])) + bandits[sel][0]\n",
    "    else:\n",
    "        sel = Qavg.index(max(Qavg))\n",
    "        r = (random.random()*(bandits[sel][1]-bandits[sel][0])) + bandits[sel][0]\n",
    "    \n",
    "    avgRewards14.append(avg(avgRewards14[i],r,i)) \n",
    "    Qavg[sel] = alpha*(r-Qavg[sel])#Qavg[sel] + alpha*(r) ## for the learning ## Original formula (the commented out one) was wrong\n",
    "    Qavg_actual[sel] = avg(Qavg_actual[sel],r,Q[sel]) ## for the actual output\n",
    "    Q[sel] = Q[sel] + 1\n",
    "    \n",
    "    if(i == 1000):\n",
    "        bandits[3] = list((6,8))\n",
    "    \n",
    "    if(i%100 == 0 and i != 0):\n",
    "        print(\"Action number:\", i, \", Percentage of Choice:\", [round(x/i,3) for x in Q],\n",
    "              \"\\nAverage Rewards Per Bandit: \", [round(x,3) for x in Qavg_actual], \n",
    "              \"\\nAverage Rewards in total: \", round(avgRewards14[i],3))\n"
   ]
  },
  {
   "cell_type": "code",
   "execution_count": 13,
   "metadata": {},
   "outputs": [
    {
     "data": {
      "image/png": "[encoded data removed]",
      "text/plain": [
       "<matplotlib.figure.Figure at 0x1f947b57160>"
      ]
     },
     "metadata": {},
     "output_type": "display_data"
    }
   ],
   "source": [
    "plt.plot(avgRewards14)\n",
    "plt.ylabel('Average Reward')\n",
    "plt.xlabel('Number of Actions')\n",
    "plt.title('1.4')\n",
    "plt.show()"
   ]
  },
  {
   "cell_type": "markdown",
   "metadata": {},
   "source": [
    "## Wrong\n",
    "The learning rate makes our trend in average reward less volatile, however it is so low that even when we change the 4rth bandit's rewards, the system is unable to capitalize on this. There's simply not enough weight put on it to allow it to change 1000 actions in."
   ]
  },
  {
   "cell_type": "markdown",
   "metadata": {},
   "source": [
    "### 1.5)"
   ]
  },
  {
   "cell_type": "code",
   "execution_count": 14,
   "metadata": {},
   "outputs": [
    {
     "name": "stdout",
     "output_type": "stream",
     "text": [
      "[[-2, 3], [1, 4], [2, 3], [-1, 5], [0, 4], [1, 4], [3, 7]]\n"
     ]
    }
   ],
   "source": [
    "bandits = []\n",
    "bandits.append(list((-2,3)))\n",
    "bandits.append(list((1,4)))\n",
    "bandits.append(list((2,3)))\n",
    "bandits.append(list((-1,5)))\n",
    "bandits.append(list((0,4)))\n",
    "bandits.append(list((1,4)))\n",
    "bandits.append(list((3,7)))\n",
    "print(bandits)"
   ]
  },
  {
   "cell_type": "code",
   "execution_count": 15,
   "metadata": {},
   "outputs": [
    {
     "name": "stdout",
     "output_type": "stream",
     "text": [
      "Action number: 100 , Percentage of Choice: [0.02, 0.03, 0.02, 0.07, 0.05, 0.02, 0.8] \n",
      "Average Rewards Per Bandit:  [0.018, 2.648, 2.818, 2.135, 2.76, 2.18, 4.782] \n",
      "Average Rewards in total:  4.273\n",
      "Action number: 200 , Percentage of Choice: [0.02, 0.02, 0.01, 0.035, 0.05, 0.03, 0.84] \n",
      "Average Rewards Per Bandit:  [0.04, 2.305, 2.818, 2.135, 2.795, 2.083, 4.872] \n",
      "Average Rewards in total:  4.433\n",
      "Action number: 300 , Percentage of Choice: [0.013, 0.023, 0.013, 0.03, 0.047, 0.02, 0.857] \n",
      "Average Rewards Per Bandit:  [0.04, 2.477, 2.483, 2.349, 2.494, 2.083, 4.937] \n",
      "Average Rewards in total:  4.541\n",
      "Action number: 400 , Percentage of Choice: [0.013, 0.018, 0.015, 0.03, 0.045, 0.025, 0.858] \n",
      "Average Rewards Per Bandit:  [-0.175, 2.477, 2.431, 2.248, 2.512, 2.389, 4.932] \n",
      "Average Rewards in total:  4.538\n",
      "Action number: 500 , Percentage of Choice: [0.014, 0.016, 0.014, 0.038, 0.04, 0.02, 0.86] \n",
      "Average Rewards Per Bandit:  [-0.543, 2.34, 2.439, 2.085, 2.326, 2.389, 4.968] \n",
      "Average Rewards in total:  4.554\n",
      "Action number: 600 , Percentage of Choice: [0.013, 0.015, 0.013, 0.038, 0.038, 0.02, 0.863] \n",
      "Average Rewards Per Bandit:  [-0.517, 2.287, 2.466, 2.199, 2.363, 2.451, 5.0] \n",
      "Average Rewards in total:  4.596\n",
      "Action number: 700 , Percentage of Choice: [0.013, 0.013, 0.014, 0.036, 0.037, 0.021, 0.867] \n",
      "Average Rewards Per Bandit:  [-0.547, 2.287, 2.503, 2.1, 2.349, 2.657, 4.97] \n",
      "Average Rewards in total:  4.585\n",
      "Action number: 800 , Percentage of Choice: [0.011, 0.014, 0.014, 0.033, 0.037, 0.021, 0.871] \n",
      "Average Rewards Per Bandit:  [-0.547, 2.342, 2.52, 2.017, 2.307, 2.556, 4.998] \n",
      "Average Rewards in total:  4.619\n",
      "Action number: 900 , Percentage of Choice: [0.01, 0.013, 0.014, 0.032, 0.036, 0.023, 0.872] \n",
      "Average Rewards Per Bandit:  [-0.547, 2.395, 2.579, 1.904, 2.236, 2.604, 5.0] \n",
      "Average Rewards in total:  4.624\n",
      "Action number: 1000 , Percentage of Choice: [0.011, 0.013, 0.015, 0.029, 0.034, 0.026, 0.873] \n",
      "Average Rewards Per Bandit:  [-0.583, 2.443, 2.558, 1.904, 2.135, 2.631, 5.021] \n",
      "Average Rewards in total:  4.643\n",
      "Action number: 1100 , Percentage of Choice: [0.012, 0.014, 0.015, 0.086, 0.031, 0.025, 0.819] \n",
      "Average Rewards Per Bandit:  [-0.299, 2.384, 2.558, 5.4, 2.135, 2.645, 5.017] \n",
      "Average Rewards in total:  4.767\n",
      "Action number: 1200 , Percentage of Choice: [0.013, 0.013, 0.016, 0.155, 0.029, 0.023, 0.752] \n",
      "Average Rewards Per Bandit:  [-0.131, 2.362, 2.546, 6.201, 2.156, 2.661, 5.016] \n",
      "Average Rewards in total:  4.924\n",
      "Action number: 1300 , Percentage of Choice: [0.012, 0.013, 0.016, 0.211, 0.029, 0.022, 0.698] \n",
      "Average Rewards Per Bandit:  [-0.232, 2.429, 2.522, 6.463, 2.215, 2.661, 5.018] \n",
      "Average Rewards in total:  5.052\n",
      "Action number: 1400 , Percentage of Choice: [0.012, 0.012, 0.018, 0.26, 0.029, 0.021, 0.649] \n",
      "Average Rewards Per Bandit:  [-0.316, 2.429, 2.537, 6.564, 2.21, 2.718, 5.015] \n",
      "Average Rewards in total:  5.15\n",
      "Action number: 1500 , Percentage of Choice: [0.012, 0.014, 0.017, 0.303, 0.027, 0.021, 0.607] \n",
      "Average Rewards Per Bandit:  [-0.279, 2.381, 2.553, 6.662, 2.248, 2.744, 5.015] \n",
      "Average Rewards in total:  5.249\n",
      "Action number: 1600 , Percentage of Choice: [0.011, 0.014, 0.019, 0.34, 0.027, 0.02, 0.569] \n",
      "Average Rewards Per Bandit:  [-0.279, 2.351, 2.558, 6.739, 2.181, 2.741, 5.013] \n",
      "Average Rewards in total:  5.336\n",
      "Action number: 1700 , Percentage of Choice: [0.011, 0.014, 0.019, 0.372, 0.026, 0.02, 0.539] \n",
      "Average Rewards Per Bandit:  [-0.279, 2.346, 2.535, 6.775, 2.153, 2.737, 5.018] \n",
      "Average Rewards in total:  5.415\n",
      "Action number: 1800 , Percentage of Choice: [0.01, 0.014, 0.019, 0.402, 0.025, 0.021, 0.509] \n",
      "Average Rewards Per Bandit:  [-0.279, 2.394, 2.534, 6.808, 2.189, 2.66, 5.018] \n",
      "Average Rewards in total:  5.482\n",
      "Action number: 1900 , Percentage of Choice: [0.011, 0.014, 0.018, 0.429, 0.024, 0.021, 0.484] \n",
      "Average Rewards Per Bandit:  [-0.145, 2.397, 2.522, 6.824, 2.189, 2.681, 5.018] \n",
      "Average Rewards in total:  5.541\n"
     ]
    }
   ],
   "source": [
    "Q = [0,0,0,0,0,0,0]\n",
    "Qavg = [5,5,5,5,5,5,5]\n",
    "Qavg_actual = [0,0,0,0,0,0,0]\n",
    "avgRewards15 = [0]\n",
    "alpha = 0.01\n",
    "sel = 0\n",
    "\n",
    "for i in range(0,2000):\n",
    "    \n",
    "    if(i%10 == 0): \n",
    "        sel = random.randint(0,6)\n",
    "        r = (random.random()*(bandits[sel][1]-bandits[sel][0])) + bandits[sel][0]\n",
    "    else:\n",
    "        sel = Qavg.index(max(Qavg))\n",
    "        r = (random.random()*(bandits[sel][1]-bandits[sel][0])) + bandits[sel][0]\n",
    "        \n",
    "    avgRewards15.append(avg(avgRewards15[i],r,i))  \n",
    "    Qavg[sel] = alpha*(r-Qavg[sel]) ## for the learning\n",
    "    Qavg_actual[sel] = avg(Qavg_actual[sel],r,Q[sel]) ## for the actual output\n",
    "    Q[sel] = Q[sel] + 1\n",
    "    \n",
    "    if(i == 1000):\n",
    "        bandits[3] = list((6,8))\n",
    "    \n",
    "    if(i%100 == 0 and i != 0):\n",
    "        print(\"Action number:\", i, \", Percentage of Choice:\", [round(x/i,3) for x in Q],\n",
    "              \"\\nAverage Rewards Per Bandit: \", [round(x,3) for x in Qavg_actual], \n",
    "              \"\\nAverage Rewards in total: \", round(avgRewards15[i],3))"
   ]
  },
  {
   "cell_type": "code",
   "execution_count": 16,
   "metadata": {},
   "outputs": [
    {
     "data": {
      "image/png": "[encoded data removed]",
      "text/plain": [
       "<matplotlib.figure.Figure at 0x1f947b5ceb8>"
      ]
     },
     "metadata": {},
     "output_type": "display_data"
    }
   ],
   "source": [
    "plt.plot(avgRewards15)\n",
    "plt.ylabel('Average Reward')\n",
    "plt.xlabel('Number of Actions')\n",
    "plt.title('1.5')\n",
    "plt.show()"
   ]
  },
  {
   "cell_type": "code",
   "execution_count": 17,
   "metadata": {},
   "outputs": [
    {
     "data": {
      "image/png": "[encoded data removed]",
      "text/plain": [
       "<matplotlib.figure.Figure at 0x1f947bf0390>"
      ]
     },
     "metadata": {},
     "output_type": "display_data"
    }
   ],
   "source": [
    "plt.plot(avgRewards14)\n",
    "plt.plot(avgRewards15)\n",
    "plt.ylabel('Average Reward')\n",
    "plt.xlabel('Number of Actions')\n",
    "plt.title('1.4 vs 1.5')\n",
    "plt.legend(['1.4', '1.5'], loc = 'lower right')\n",
    "plt.show()"
   ]
  },
  {
   "cell_type": "markdown",
   "metadata": {},
   "source": [
    "## wrong\n",
    "\n",
    "The optimistic initialization gives us more exploratory behavior at the start, but since the learning rate is so low, the system is unable to effectively utilize it. This results in 1.5 having spikes of higher rewards than 1.4 at the beginning, but they both quickly converge on the same result."
   ]
  },
  {
   "cell_type": "code",
   "execution_count": null,
   "metadata": {},
   "outputs": [],
   "source": []
  }
 ],
 "metadata": {
  "kernelspec": {
   "display_name": "Python 3",
   "language": "python",
   "name": "python3"
  },
  "language_info": {
   "codemirror_mode": {
    "name": "ipython",
    "version": 3
   },
   "file_extension": ".py",
   "mimetype": "text/x-python",
   "name": "python",
   "nbconvert_exporter": "python",
   "pygments_lexer": "ipython3",
   "version": "3.6.4"
  }
 },
 "nbformat": 4,
 "nbformat_minor": 2
}
