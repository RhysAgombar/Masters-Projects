{
 "cells": [
  {
   "cell_type": "markdown",
   "metadata": {},
   "source": [
    "### 1.1)"
   ]
  },
  {
   "cell_type": "markdown",
   "metadata": {},
   "source": [
    "R<sub>1</sub> = (-2 + 3) / 2 = 0,5\n",
    "\n",
    "R<sub>2</sub> = (1 + 4) / 2 = 2,5\n",
    "\n",
    "R<sub>3</sub>=(2 + 3)/2 = 2,5\n",
    "\n",
    "R<sub>4</sub>=(-1 + 5)/2 = 2\n",
    "\n",
    "R<sub>5</sub>=(0 + 4)/2 = 2\n",
    "\n",
    "R<sub>6</sub>=(1 + 4)/2 = 2,5\n",
    "\n",
    "R<sub>7</sub>=(3 + 7)/2 = 5\n",
    "\n",
    "\n",
    "R<sub>exp</sub>=(0,5 + 2,5 + 2,5 + 2 + 2 + 2,5 + 5)/7 = 2,428\n",
    "\n",
    "The expected reward will be 2,428 when actuions are chosen uniformly."
   ]
  },
  {
   "cell_type": "code",
   "execution_count": 19,
   "metadata": {},
   "outputs": [],
   "source": [
    "import random"
   ]
  },
  {
   "cell_type": "markdown",
   "metadata": {},
   "source": [
    "### 1.2)"
   ]
  },
  {
   "cell_type": "code",
   "execution_count": 20,
   "metadata": {},
   "outputs": [
    {
     "name": "stdout",
     "output_type": "stream",
     "text": [
      "[[-2, 3], [1, 4], [2, 3], [-1, 5], [0, 4], [1, 4], [3, 7]]\n"
     ]
    }
   ],
   "source": [
    "bandits = []\n",
    "bandits.append(list((-2,3)))\n",
    "bandits.append(list((1,4)))\n",
    "bandits.append(list((2,3)))\n",
    "bandits.append(list((-1,5)))\n",
    "bandits.append(list((0,4)))\n",
    "bandits.append(list((1,4)))\n",
    "bandits.append(list((3,7)))\n",
    "print(bandits)"
   ]
  },
  {
   "cell_type": "code",
   "execution_count": 26,
   "metadata": {},
   "outputs": [
    {
     "name": "stdout",
     "output_type": "stream",
     "text": [
      "2.153\n"
     ]
    }
   ],
   "source": [
    "totalReward = 0\n",
    "for i in range(0,20):\n",
    "    selBandit = random.randint(0,6)\n",
    "    totalReward= totalReward + (random.random()*(bandits[selBandit][1]-bandits[selBandit][0])) + bandits[selBandit][0]\n",
    "print(round(totalReward/20,3))"
   ]
  },
  {
   "cell_type": "markdown",
   "metadata": {},
   "source": []
  },
  {
   "cell_type": "markdown",
   "metadata": {},
   "source": [
    "### 1.3)"
   ]
  },
  {
   "cell_type": "code",
   "execution_count": 35,
   "metadata": {},
   "outputs": [],
   "source": [
    "def avg(q, r, k): ## Recursive Average\n",
    "    return q + (1/(k+1))*(r-q)    "
   ]
  },
  {
   "cell_type": "code",
   "execution_count": 59,
   "metadata": {},
   "outputs": [
    {
     "name": "stdout",
     "output_type": "stream",
     "text": [
      "Action number: 100 Percentage of Choice: [0.06, 0.1, 0.05, 0.06, 0.04, 0.26, 0.44] \n",
      "Average Rewards:  [0.196, 3.001, 2.515, 1.76, 2.101, 2.622, 5.067]\n",
      "Action number: 200 Percentage of Choice: [0.055, 0.085, 0.075, 0.075, 0.06, 0.155, 0.5] \n",
      "Average Rewards:  [0.802, 2.69, 2.597, 2.021, 2.004, 2.707, 4.993]\n",
      "Action number: 300 Percentage of Choice: [0.067, 0.09, 0.06, 0.087, 0.06, 0.117, 0.523] \n",
      "Average Rewards:  [0.485, 2.384, 2.583, 1.857, 2.125, 2.787, 4.968]\n",
      "Action number: 400 Percentage of Choice: [0.068, 0.087, 0.058, 0.092, 0.065, 0.102, 0.53] \n",
      "Average Rewards:  [0.476, 2.476, 2.565, 2.043, 1.902, 2.701, 5.021]\n",
      "Action number: 500 Percentage of Choice: [0.074, 0.086, 0.056, 0.08, 0.068, 0.102, 0.536] \n",
      "Average Rewards:  [0.452, 2.451, 2.515, 2.06, 1.8, 2.672, 5.027]\n",
      "Action number: 600 Percentage of Choice: [0.075, 0.088, 0.057, 0.075, 0.065, 0.102, 0.54] \n",
      "Average Rewards:  [0.432, 2.487, 2.53, 2.25, 1.81, 2.626, 5.037]\n",
      "Action number: 700 Percentage of Choice: [0.073, 0.086, 0.054, 0.077, 0.071, 0.1, 0.54] \n",
      "Average Rewards:  [0.46, 2.582, 2.561, 2.084, 1.911, 2.656, 5.022]\n",
      "Action number: 800 Percentage of Choice: [0.072, 0.084, 0.051, 0.075, 0.072, 0.099, 0.547] \n",
      "Average Rewards:  [0.468, 2.554, 2.553, 2.174, 1.895, 2.655, 5.072]\n",
      "Action number: 900 Percentage of Choice: [0.077, 0.081, 0.052, 0.076, 0.073, 0.094, 0.548] \n",
      "Average Rewards:  [0.363, 2.564, 2.548, 2.19, 1.918, 2.646, 5.111]\n",
      "Action number: 1000 Percentage of Choice: [0.078, 0.083, 0.054, 0.072, 0.072, 0.092, 0.55] \n",
      "Average Rewards:  [0.328, 2.568, 2.558, 2.195, 1.911, 2.609, 5.104]\n",
      "Action number: 1100 Percentage of Choice: [0.077, 0.085, 0.056, 0.075, 0.07, 0.087, 0.55] \n",
      "Average Rewards:  [0.25, 2.582, 2.565, 2.171, 1.869, 2.609, 5.093]\n",
      "Action number: 1200 Percentage of Choice: [0.074, 0.087, 0.057, 0.072, 0.073, 0.085, 0.552] \n",
      "Average Rewards:  [0.26, 2.573, 2.557, 2.204, 1.861, 2.608, 5.096]\n",
      "Action number: 1300 Percentage of Choice: [0.076, 0.087, 0.055, 0.071, 0.072, 0.085, 0.555] \n",
      "Average Rewards:  [0.236, 2.55, 2.548, 2.139, 1.877, 2.588, 5.098]\n",
      "Action number: 1400 Percentage of Choice: [0.075, 0.084, 0.056, 0.072, 0.073, 0.082, 0.558] \n",
      "Average Rewards:  [0.265, 2.544, 2.548, 2.134, 1.892, 2.576, 5.095]\n",
      "Action number: 1500 Percentage of Choice: [0.073, 0.083, 0.055, 0.073, 0.075, 0.083, 0.559] \n",
      "Average Rewards:  [0.277, 2.519, 2.531, 2.179, 1.857, 2.589, 5.085]\n",
      "Action number: 1600 Percentage of Choice: [0.073, 0.082, 0.057, 0.072, 0.076, 0.081, 0.559] \n",
      "Average Rewards:  [0.247, 2.537, 2.519, 2.126, 1.851, 2.59, 5.088]\n",
      "Action number: 1700 Percentage of Choice: [0.072, 0.082, 0.055, 0.075, 0.075, 0.082, 0.559] \n",
      "Average Rewards:  [0.229, 2.563, 2.516, 2.131, 1.882, 2.572, 5.092]\n",
      "Action number: 1800 Percentage of Choice: [0.073, 0.082, 0.056, 0.075, 0.075, 0.08, 0.559] \n",
      "Average Rewards:  [0.191, 2.587, 2.525, 2.119, 1.872, 2.559, 5.081]\n",
      "Action number: 1900 Percentage of Choice: [0.071, 0.082, 0.058, 0.074, 0.077, 0.079, 0.561] \n",
      "Average Rewards:  [0.207, 2.595, 2.524, 2.111, 1.903, 2.563, 5.067]\n"
     ]
    }
   ],
   "source": [
    "Q = [0,0,0,0,0,0,0]\n",
    "Qavg = [0,0,0,0,0,0,0]\n",
    "\n",
    "for i in range(0,2000):\n",
    "    sel = 0\n",
    "    \n",
    "    if(i%10 == 0):      \n",
    "        sel = random.randint(0,6)\n",
    "        r = (random.random()*(bandits[sel][1]-bandits[sel][0])) + bandits[sel][0]\n",
    "        \n",
    "        Qavg[sel] = avg(Qavg[sel],r,Q[sel])\n",
    "        Q[sel] = Q[sel] + 1\n",
    "    else:\n",
    "        sel = Qavg.index(max(Qavg))\n",
    "        r = (random.random()*(bandits[sel][1]-bandits[sel][0])) + bandits[sel][0]\n",
    "        \n",
    "        Qavg[sel] = avg(Qavg[sel],r,Q[sel])\n",
    "        Q[sel] = Q[sel] + 1\n",
    "    \n",
    "    if(i%100 == 0 and i != 0):\n",
    "        print(\"Action number:\", i, \"Percentage of Choice:\", [round(x/i,3) for x in Q],\n",
    "              \"\\nAverage Rewards: \", [round(x,3) for x in Qavg])\n"
   ]
  },
  {
   "cell_type": "markdown",
   "metadata": {},
   "source": [
    "### 1.4)\n",
    "\n",
    "Unfinished"
   ]
  },
  {
   "cell_type": "code",
   "execution_count": 63,
   "metadata": {},
   "outputs": [
    {
     "name": "stdout",
     "output_type": "stream",
     "text": [
      "Action number: 100 , Percentage of Choice: [0.01, 0.0, 0.02, 0.93, 0.02, 0.02, 0.01] \n",
      "Average Rewards:  [0.012, 0, 0.01262, 0.04097, 0.0156, 0.01385, 0.06942]\n",
      "Action number: 200 , Percentage of Choice: [0.02, 0.005, 0.015, 0.47, 0.015, 0.02, 0.46] \n",
      "Average Rewards:  [0.00413, 0.03832, 0.00724, 0.00125, 0.00538, 0.00923, 2.34974]\n",
      "Action number: 300 , Percentage of Choice: [0.01667, 0.24333, 0.01, 0.31667, 0.01667, 0.02333, 0.37667] \n",
      "Average Rewards:  [-0.00236, 2.55489, 0.00724, 0.00068, 0.00477, 0.00215, 0.0003]\n",
      "Action number: 400 , Percentage of Choice: [0.02, 0.41, 0.0075, 0.24, 0.02, 0.02, 0.285] \n",
      "Average Rewards:  [0.00234, 0.96464, 0.00724, 0.00072, 0.00207, 0.00498, 0.00029]\n",
      "Action number: 500 , Percentage of Choice: [0.022, 0.508, 0.006, 0.196, 0.02, 0.02, 0.23] \n",
      "Average Rewards:  [0.00114, 1.49515, 0.00724, 0.00069, 0.00398, 0.00145, 0.00035]\n",
      "Action number: 600 , Percentage of Choice: [0.02, 0.57333, 0.005, 0.16833, 0.02333, 0.01833, 0.19333] \n",
      "Average Rewards:  [0.00213, 1.70849, 0.00724, 0.00061, 0.00267, 0.00214, 0.00036]\n",
      "Action number: 700 , Percentage of Choice: [0.02143, 0.54571, 0.08286, 0.14429, 0.02286, 0.01714, 0.16714] \n",
      "Average Rewards:  [0.0007, 0.00128, 0.39349, 0.00061, 0.00251, 0.00233, 0.00029]\n",
      "Action number: 800 , Percentage of Choice: [0.02, 0.47875, 0.19, 0.12875, 0.02125, 0.01625, 0.14625] \n",
      "Average Rewards:  [0.00137, 0.00011, 0.00174, 0.00062, 0.00058, 0.00265, 0.00029]\n",
      "Action number: 900 , Percentage of Choice: [0.01889, 0.42667, 0.17222, 0.11444, 0.02111, 0.11556, 0.13222] \n",
      "Average Rewards:  [-0.00089, 6e-05, 0.00014, 0.00062, 0.00135, 1.10423, 0.00058]\n",
      "Action number: 1000 , Percentage of Choice: [0.019, 0.386, 0.155, 0.103, 0.024, 0.195, 0.119] \n",
      "Average Rewards:  [0.00073, 3e-05, 0.00014, 0.00062, 0.00139, 0.53697, 0.00058]\n",
      "Action number: 1100 , Percentage of Choice: [0.01909, 0.35182, 0.14273, 0.09545, 0.02182, 0.26, 0.11] \n",
      "Average Rewards:  [0.00059, 8e-05, 0.00017, 0.00061, 0.00139, 0.62677, 0.0003]\n",
      "Action number: 1200 , Percentage of Choice: [0.01833, 0.3225, 0.13083, 0.08917, 0.06583, 0.27083, 0.10333] \n",
      "Average Rewards:  [-0.00053, 8e-05, 0.00017, 0.00071, 0.27396, 7e-05, 0.00044]\n",
      "Action number: 1300 , Percentage of Choice: [0.01846, 0.29846, 0.12154, 0.08231, 0.13154, 0.25077, 0.09769] \n",
      "Average Rewards:  [-0.00011, 7e-05, 0.00018, 0.00071, 0.00185, 0.00011, 0.00033]\n",
      "Action number: 1400 , Percentage of Choice: [0.01714, 0.27714, 0.11286, 0.07786, 0.18857, 0.23643, 0.09071] \n",
      "Average Rewards:  [-0.00011, 7e-05, 0.00018, 0.00068, 0.24953, 6e-05, 0.00033]\n",
      "Action number: 1500 , Percentage of Choice: [0.018, 0.26, 0.10533, 0.07333, 0.23667, 0.222, 0.08533] \n",
      "Average Rewards:  [0.00074, 0.0001, 0.00018, 0.00064, 0.37723, 8e-05, 0.00051]\n",
      "Action number: 1600 , Percentage of Choice: [0.01688, 0.245, 0.10063, 0.06875, 0.27875, 0.21, 0.08063] \n",
      "Average Rewards:  [0.00074, 0.0001, 0.00015, 0.00064, 0.07235, 6e-05, 0.00054]\n",
      "Action number: 1700 , Percentage of Choice: [0.01647, 0.23118, 0.09529, 0.06471, 0.31647, 0.19941, 0.07706] \n",
      "Average Rewards:  [0.00082, 4e-05, 0.00014, 0.00064, 0.07673, 0.00011, 0.00053]\n",
      "Action number: 1800 , Percentage of Choice: [0.01667, 0.21944, 0.09056, 0.08111, 0.33056, 0.18889, 0.07333] \n",
      "Average Rewards:  [0.00043, 5e-05, 0.00018, 1.72078, 7e-05, 5e-05, 0.00042]\n",
      "Action number: 1900 , Percentage of Choice: [0.01632, 0.20789, 0.08684, 0.12526, 0.31368, 0.18, 0.07053] \n",
      "Average Rewards:  [-0.0004, 5e-05, 0.00014, 1.34833, 2e-05, 5e-05, 0.00052]\n"
     ]
    }
   ],
   "source": [
    "Q = [0,0,0,0,0,0,0]\n",
    "Qavg = [0,0,0,0,0,0,0]\n",
    "alpha = 0.01\n",
    "\n",
    "for i in range(0,2000):\n",
    "    sel = 0\n",
    "    \n",
    "    if(i%10 == 0): \n",
    "        sel = random.randint(0,6)\n",
    "        r = (random.random()*(bandits[sel][1]-bandits[sel][0])) + bandits[sel][0]\n",
    "        \n",
    "        ## Tracking a non stationary problem\n",
    "        Qavg[sel] = Qavg[sel-1] + alpha*(r)\n",
    "        Q[sel] = Q[sel] + 1\n",
    "    else:\n",
    "        sel = Qavg.index(max(Qavg))\n",
    "        r = (random.random()*(bandits[sel][1]-bandits[sel][0])) + bandits[sel][0]\n",
    "        \n",
    "        Qavg[sel] = avg(Qavg[sel],r,Q[sel])\n",
    "        Q[sel] = Q[sel] + 1\n",
    "    \n",
    "    if(i%100 == 0 and i != 0):\n",
    "        print(\"Action number:\", i, \", Percentage of Choice:\", [round(x/i,5) for x in Q],\n",
    "              \"\\nAverage Rewards: \", [round(x,5) for x in Qavg])\n",
    "    \n",
    "    if(i == 1000):\n",
    "        bandits[3] = list((6,8))\n"
   ]
  },
  {
   "cell_type": "markdown",
   "metadata": {},
   "source": [
    "### 1.5)"
   ]
  },
  {
   "cell_type": "code",
   "execution_count": null,
   "metadata": {},
   "outputs": [],
   "source": []
  }
 ],
 "metadata": {
  "kernelspec": {
   "display_name": "Python 3",
   "language": "python",
   "name": "python3"
  },
  "language_info": {
   "codemirror_mode": {
    "name": "ipython",
    "version": 3
   },
   "file_extension": ".py",
   "mimetype": "text/x-python",
   "name": "python",
   "nbconvert_exporter": "python",
   "pygments_lexer": "ipython3",
   "version": "3.6.4"
  }
 },
 "nbformat": 4,
 "nbformat_minor": 2
}
