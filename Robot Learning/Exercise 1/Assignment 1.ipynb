{
 "cells": [
  {
   "cell_type": "code",
   "execution_count": null,
   "metadata": {},
   "outputs": [],
   "source": []
  },
  {
   "cell_type": "code",
   "execution_count": 1,
   "metadata": {},
   "outputs": [],
   "source": [
    "import random"
   ]
  },
  {
   "cell_type": "markdown",
   "metadata": {},
   "source": [
    "### 1.2)"
   ]
  },
  {
   "cell_type": "code",
   "execution_count": 12,
   "metadata": {},
   "outputs": [
    {
     "name": "stdout",
     "output_type": "stream",
     "text": [
      "[[-2, 3], [1, 4], [2, 3], [-1, 5], [0, 4], [1, 4], [3, 7]]\n"
     ]
    }
   ],
   "source": [
    "bandits = []\n",
    "bandits.append(list((-2,3)))\n",
    "bandits.append(list((1,4)))\n",
    "bandits.append(list((2,3)))\n",
    "bandits.append(list((-1,5)))\n",
    "bandits.append(list((0,4)))\n",
    "bandits.append(list((1,4)))\n",
    "bandits.append(list((3,7)))\n",
    "print(bandits)"
   ]
  },
  {
   "cell_type": "code",
   "execution_count": 30,
   "metadata": {},
   "outputs": [
    {
     "name": "stdout",
     "output_type": "stream",
     "text": [
      "2.55\n"
     ]
    }
   ],
   "source": [
    "totalReward = 0\n",
    "for i in range(0,20):\n",
    "    selBandit = random.randint(0,6)\n",
    "    totalReward= totalReward + random.randint(bandits[selBandit][0],bandits[selBandit][1])\n",
    "print(totalReward/20)"
   ]
  },
  {
   "cell_type": "markdown",
   "metadata": {},
   "source": []
  },
  {
   "cell_type": "markdown",
   "metadata": {},
   "source": [
    "### 1.3)"
   ]
  },
  {
   "cell_type": "code",
   "execution_count": 46,
   "metadata": {},
   "outputs": [],
   "source": [
    "def avg(num_list, t): ## Recursive Average\n",
    "    if(t == 1):\n",
    "        return num_list[t-1]\n",
    "    else:\n",
    "        return ((t-1)/t)*avg(num_list, t-1) + (1/t)*num_list[t-1]\n",
    "    "
   ]
  },
  {
   "cell_type": "code",
   "execution_count": null,
   "metadata": {},
   "outputs": [],
   "source": [
    "Q = [[],[],[],[],[],[],[]]\n",
    "Qavg = [0,0,0,0,0,0,0]\n",
    "\n",
    "for i in range(0,2000):\n",
    "    sel = 0\n",
    "    \n",
    "    if(i%10 == 0){        \n",
    "        sel = random.randint(0,6)\n",
    "        Q[sel]\n",
    "    } else{\n",
    "        \n",
    "    }"
   ]
  },
  {
   "cell_type": "code",
   "execution_count": null,
   "metadata": {},
   "outputs": [],
   "source": []
  },
  {
   "cell_type": "code",
   "execution_count": null,
   "metadata": {},
   "outputs": [],
   "source": []
  },
  {
   "cell_type": "code",
   "execution_count": null,
   "metadata": {},
   "outputs": [],
   "source": []
  }
 ],
 "metadata": {
  "kernelspec": {
   "display_name": "Python 3",
   "language": "python",
   "name": "python3"
  },
  "language_info": {
   "codemirror_mode": {
    "name": "ipython",
    "version": 3
   },
   "file_extension": ".py",
   "mimetype": "text/x-python",
   "name": "python",
   "nbconvert_exporter": "python",
   "pygments_lexer": "ipython3",
   "version": "3.6.4"
  }
 },
 "nbformat": 4,
 "nbformat_minor": 2
}
